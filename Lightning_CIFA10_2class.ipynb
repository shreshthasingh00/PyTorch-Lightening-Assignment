{
 "cells": [
  {
   "cell_type": "code",
   "execution_count": 5,
   "metadata": {},
   "outputs": [
    {
     "name": "stdout",
     "output_type": "stream",
     "text": [
      "Files already downloaded and verified\n",
      "Files already downloaded and verified\n"
     ]
    },
    {
     "name": "stderr",
     "output_type": "stream",
     "text": [
      "GPU available: True, used: True\n",
      "TPU available: False, using: 0 TPU cores\n",
      "IPU available: False, using: 0 IPUs\n",
      "LOCAL_RANK: 0 - CUDA_VISIBLE_DEVICES: [0]\n",
      "\n",
      "  | Name   | Type   | Params\n",
      "----------------------------------\n",
      "0 | resnet | ResNet | 11.2 M\n",
      "----------------------------------\n",
      "1.0 K     Trainable params\n",
      "11.2 M    Non-trainable params\n",
      "11.2 M    Total params\n",
      "44.710    Total estimated model params size (MB)\n"
     ]
    },
    {
     "name": "stdout",
     "output_type": "stream",
     "text": [
      "Epoch 293:  79%|███████▊  | 738/939 [00:06<00:01, 109.79it/s, loss=0.245, v_num=37]"
     ]
    },
    {
     "name": "stderr",
     "output_type": "stream",
     "text": [
      "/home/users/shreshtha.singh/anaconda3/envs/cxr_training/lib/python3.9/site-packages/pytorch_lightning/trainer/trainer.py:688: UserWarning: Detected KeyboardInterrupt, attempting graceful shutdown...\n",
      "  rank_zero_warn(\"Detected KeyboardInterrupt, attempting graceful shutdown...\")\n"
     ]
    },
    {
     "name": "stdout",
     "output_type": "stream",
     "text": [
      "Epoch 293:  79%|███████▊  | 738/939 [00:16<00:04, 43.99it/s, loss=0.245, v_num=37] "
     ]
    }
   ],
   "source": [
    "import torch\n",
    "import torch.nn as nn\n",
    "import torch.optim as optim\n",
    "import torchvision\n",
    "import torchvision.transforms as transforms\n",
    "import pytorch_lightning as pl\n",
    "\n",
    "class BinaryCIFARDataset(torch.utils.data.Dataset):\n",
    "    def __init__(self, original_dataset,indices,label):\n",
    "        self.original_dataset = original_dataset\n",
    "        self.indices  = indices\n",
    "        self.label = label\n",
    "\n",
    "    def __getitem__(self, index):\n",
    "        image, _ = self.original_dataset[self.indices[index]]\n",
    "        return image, self.label\n",
    "\n",
    "    def __len__(self):\n",
    "        return len(self.indices)\n",
    "\n",
    "class BinaryClassifier(pl.LightningModule):\n",
    "    def __init__(self,  fine_tune=False):\n",
    "        super(BinaryClassifier, self).__init__()\n",
    "        self.resnet = torchvision.models.resnet18(pretrained=True)\n",
    "        if not fine_tune:\n",
    "            for param in self.resnet.parameters():\n",
    "                param.requires_grad = False\n",
    "        num_ftrs = self.resnet.fc.in_features\n",
    "        self.resnet.fc = nn.Linear(num_ftrs, 2)\n",
    "\n",
    "    def forward(self, x):\n",
    "        return self.resnet(x)\n",
    "\n",
    "    def training_step(self, batch, batch_idx):\n",
    "        inputs, labels = batch\n",
    "        outputs = self(inputs)\n",
    "        loss = nn.CrossEntropyLoss()(outputs, labels)\n",
    "        self.log(\"train_loss\", loss, on_step=True, on_epoch=True)\n",
    "        return loss\n",
    "\n",
    "    def validation_step(self, batch, batch_idx):\n",
    "        inputs, labels = batch\n",
    "        outputs = self(inputs)\n",
    "        loss = nn.CrossEntropyLoss()(outputs, labels)\n",
    "        _, preds = torch.max(outputs, 1)\n",
    "        accuracy = torch.sum(preds == labels.data).item() / len(labels)\n",
    "        self.log(\"val_loss\", loss, on_step=True, on_epoch=True)\n",
    "        self.log(\"val_acc\", accuracy, on_step=True, on_epoch=True)\n",
    "        return {\"val_loss\": loss, \"val_acc\": accuracy}\n",
    "\n",
    "    def validation_epoch_end(self, outputs):\n",
    "        val_losses = [x[\"val_loss\"] for x in outputs]\n",
    "        val_accs = [x[\"val_acc\"] for x in outputs]\n",
    "\n",
    "        val_losses = torch.tensor(val_losses)\n",
    "        val_accs = torch.tensor(val_accs)\n",
    "\n",
    "        avg_val_loss = val_losses.mean()\n",
    "        avg_val_acc = val_accs.mean()\n",
    "\n",
    "        self.log(\"avg_val_loss\", avg_val_loss, on_epoch=True)\n",
    "        self.log(\"avg_val_acc\", avg_val_acc, on_epoch=True)\n",
    "\n",
    "    def configure_optimizers(self):\n",
    "        optimizer = optim.Adam(self.parameters(), lr=0.001)\n",
    "        return optimizer\n",
    "\n",
    "if __name__ == \"__main__\":\n",
    "    transform = transforms.Compose([transforms.RandomHorizontalFlip(),\n",
    "                                    transforms.RandomCrop(32, padding=4),\n",
    "                                    transforms.ToTensor(),\n",
    "                                    transforms.Normalize((0.5, 0.5, 0.5), (0.5, 0.5, 0.5))])\n",
    "\n",
    "    train_dataset = torchvision.datasets.CIFAR10(root=\"./data\", train=True, download=True, transform=transform)\n",
    "    test_dataset = torchvision.datasets.CIFAR10(root=\"./data\", train=False, download=True, transform=transform)\n",
    "\n",
    "\n",
    "\n",
    "            #### train_loader ####\n",
    "    airplane_indices = [i for i in range(len(train_dataset)) if train_dataset[i][1] == 0]\n",
    "    non_airplane_indices = [i for i in range(len(train_dataset)) if train_dataset[i][1] != 0]\n",
    "\n",
    "    airplane_dataset = BinaryCIFARDataset(train_dataset, airplane_indices,label=0 )\n",
    "    non_airplane_dataset = BinaryCIFARDataset(train_dataset, non_airplane_indices,label=1 )\n",
    "\n",
    "    train_dataset = torch.utils.data.ConcatDataset([airplane_dataset, non_airplane_dataset])\n",
    "    train_loader = torch.utils.data.DataLoader(train_dataset, batch_size=64, shuffle=True, num_workers=4)\n",
    "\n",
    "\n",
    "\n",
    "                    #### test_loader ####\n",
    "    # test_loader = torch.utils.data.DataLoader(test_dataset, batch_size=64, shuffle=False, num_workers=4)\n",
    "    airplane_indices = [i for i in range(len(test_dataset)) if test_dataset[i][1] == 0]\n",
    "    non_airplane_indices = [i for i in range(len(test_dataset)) if test_dataset[i][1] != 0]\n",
    "\n",
    "    airplane_dataset = BinaryCIFARDataset(test_dataset, airplane_indices,label=0 )\n",
    "    non_airplane_dataset = BinaryCIFARDataset(test_dataset, non_airplane_indices,label=1 )\n",
    "\n",
    "    test_dataset = torch.utils.data.ConcatDataset([airplane_dataset, non_airplane_dataset])\n",
    "    test_loader = torch.utils.data.DataLoader(test_dataset, batch_size=64, shuffle=True, num_workers=4)\n",
    "\n",
    "    model = BinaryClassifier()\n",
    "    trainer = pl.Trainer(max_epochs=1000, gpus=1)  # Set gpus=0 if you don't have a GPU\n",
    "    trainer.fit(model, train_loader, test_loader)\n"
   ]
  },
  {
   "cell_type": "code",
   "execution_count": null,
   "metadata": {},
   "outputs": [],
   "source": []
  }
 ],
 "metadata": {
  "kernelspec": {
   "display_name": "cxr_training",
   "language": "python",
   "name": "python3"
  },
  "language_info": {
   "codemirror_mode": {
    "name": "ipython",
    "version": 3
   },
   "file_extension": ".py",
   "mimetype": "text/x-python",
   "name": "python",
   "nbconvert_exporter": "python",
   "pygments_lexer": "ipython3",
   "version": "3.9.12"
  },
  "orig_nbformat": 4
 },
 "nbformat": 4,
 "nbformat_minor": 2
}
